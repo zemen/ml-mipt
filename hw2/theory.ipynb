{
 "cells": [
  {
   "cell_type": "markdown",
   "metadata": {},
   "source": [
    "# Задача 1"
   ]
  },
  {
   "cell_type": "markdown",
   "metadata": {},
   "source": [
    "Пусть $y_1, \\dots y_n$ - значения таргетов в листе, а таргет для нашего запроса - $y$. Если ответить $z = \\frac{\\sum y_i}{n}$, ошибка по MSE составит $(y - z)^2 = y^2 - 2yz + z^2$. Если же взять равновероятно случайный $y_i$, матожидание ошибки будет $\\frac{\\sum (y - y_i)^2}{n} = y^2 - 2yz + \\frac{\\sum y_i^2}{n}$. $z^2 \\le \\frac{\\sum y_i^2}{n}$ следует из того, что $\\frac{\\sum y_i}{n} \\le \\sqrt{\\frac{\\sum y_i^2}{n}}$, а это просто неравенство между средним арифметическим и квадратичным. Значит, оптимальнее отвечать средним значением таргета."
   ]
  },
  {
   "cell_type": "markdown",
   "metadata": {},
   "source": [
    "# Задача 2"
   ]
  },
  {
   "cell_type": "markdown",
   "metadata": {},
   "source": [
    "Как правило, для листьев дерева мера неоднородности $H(R) = |R|^{-1} \\sum (y_i - \\overline{y})^2$ для различных подмножеств, получаемых разбиением, довольно большая. Для таких множеств линейная регрессия не дает преимущества. Чтобы этого избежать, можно использовать другую меру, например MAE."
   ]
  },
  {
   "cell_type": "markdown",
   "metadata": {},
   "source": [
    "# Задача 3"
   ]
  },
  {
   "cell_type": "markdown",
   "metadata": {},
   "source": [
    "Для распределения $N(\\mu, \\Sigma)$ плотность выглядит как $p(X) = e^{-0.5 (X-\\mu)^T \\Sigma^{-1} (X-\\mu)} \\sqrt{|2 \\pi \\Sigma|}^{-1}$. $H(S) = - \\int p(X) \\ln p(x) dX = - E \\ln p(x) = 0.5 \\ln (|2 \\pi \\Sigma|) E (x-\\mu)^T \\Sigma^{-1} (x-\\mu)$. Т.к. $\\Sigma$ - матрица ковариаций, $\\Sigma = E (x-\\mu) (x-\\mu)^T$.\n",
    "\n",
    "$E (x-\\mu)^T \\Sigma^{-1} (x-\\mu) = E\\ tr((x-\\mu)^T \\Sigma^{-1} (x-\\mu)) = E\\ tr((x-\\mu) (x-\\mu)^T \\Sigma^{-1}) = tr(E(x-\\mu)(x-\\mu)^T \\Sigma^{-1} = tr(\\Sigma \\Sigma^{-1}) = n$.\n",
    "\n",
    "Тогда энтропия равна $ 0.5 n \\ln (|2 \\pi \\Sigma|) = 0.5 \\ln (|2 \\pi e \\Sigma|)$."
   ]
  }
 ],
 "metadata": {
  "kernelspec": {
   "display_name": "Python 3",
   "language": "python",
   "name": "python3"
  },
  "language_info": {
   "codemirror_mode": {
    "name": "ipython",
    "version": 3
   },
   "file_extension": ".py",
   "mimetype": "text/x-python",
   "name": "python",
   "nbconvert_exporter": "python",
   "pygments_lexer": "ipython3",
   "version": "3.6.0"
  }
 },
 "nbformat": 4,
 "nbformat_minor": 2
}
