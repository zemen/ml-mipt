{
 "cells": [
  {
   "cell_type": "code",
   "execution_count": 1,
   "metadata": {
    "collapsed": false
   },
   "outputs": [
    {
     "name": "stdout",
     "output_type": "stream",
     "text": [
      "Populating the interactive namespace from numpy and matplotlib\n"
     ]
    }
   ],
   "source": [
    "%pylab inline\n",
    "from math import inf"
   ]
  },
  {
   "cell_type": "markdown",
   "metadata": {},
   "source": [
    "# Loading dataset"
   ]
  },
  {
   "cell_type": "code",
   "execution_count": 2,
   "metadata": {
    "collapsed": true
   },
   "outputs": [],
   "source": [
    "from sklearn.datasets import load_boston"
   ]
  },
  {
   "cell_type": "code",
   "execution_count": 3,
   "metadata": {
    "collapsed": false
   },
   "outputs": [
    {
     "name": "stdout",
     "output_type": "stream",
     "text": [
      "total 506 objects\n"
     ]
    }
   ],
   "source": [
    "X, y = load_boston(return_X_y=True)\n",
    "print(\"total {} objects\".format(len(X)))"
   ]
  },
  {
   "cell_type": "code",
   "execution_count": 4,
   "metadata": {
    "collapsed": true
   },
   "outputs": [],
   "source": [
    "bound = round(0.75 * len(X))\n",
    "X_train, y_train = X[:bound], y[:bound]\n",
    "X_test, y_test = X[bound:], y[bound:]"
   ]
  },
  {
   "cell_type": "markdown",
   "metadata": {},
   "source": [
    "# Helper functions"
   ]
  },
  {
   "cell_type": "code",
   "execution_count": 5,
   "metadata": {
    "collapsed": true
   },
   "outputs": [],
   "source": [
    "def H(y):\n",
    "    p = {}\n",
    "    for i in y:\n",
    "        if not i in p:\n",
    "            p[i] = 0\n",
    "        p[i] += 1. / len(y)\n",
    "    res = 0\n",
    "    for s in p.values():\n",
    "        res += s * (1 - s)\n",
    "    return res"
   ]
  },
  {
   "cell_type": "code",
   "execution_count": 6,
   "metadata": {
    "collapsed": true
   },
   "outputs": [],
   "source": [
    "def split_score(X, y, k, bound):\n",
    "    lower = []\n",
    "    upper = []\n",
    "    for i in range(len(y)):\n",
    "        if X[i][k] <= bound:\n",
    "            lower += [y[i]]\n",
    "        else:\n",
    "            upper += [y[i]]\n",
    "    return H(lower) * len(lower) / len(X) + H(upper) * len(upper) / len(X)"
   ]
  },
  {
   "cell_type": "markdown",
   "metadata": {},
   "source": [
    "# Recursive tree building function"
   ]
  },
  {
   "cell_type": "code",
   "execution_count": 7,
   "metadata": {
    "collapsed": false
   },
   "outputs": [],
   "source": [
    "def build_tree(X, y, max_depth = inf):\n",
    "    X = np.array(X)\n",
    "    y = np.array(y)\n",
    "    n = len(X)\n",
    "    m = len(X[0])\n",
    "    leaf = {'l': None, 'r': None, 'result': np.mean(y)}\n",
    "    if n == 1 or max_depth == 0:\n",
    "        return leaf\n",
    "    node = {'score': inf}\n",
    "    for k in range(m):\n",
    "        vals = sorted([X[i][k] for i in range(n)])\n",
    "        bounds = [(vals[j] + vals[j + 1]) * 0.5 for j in range(n - 1)]\n",
    "        for bound in bounds:\n",
    "            cur = split_score(X, y, k, bound)\n",
    "            if cur < node['score']:\n",
    "                node['score'] = cur\n",
    "                node['id'] = k\n",
    "                node['bound'] = bound\n",
    "    Xl = []\n",
    "    Xr = []\n",
    "    yl = []\n",
    "    yr = []\n",
    "    for i in range(n):\n",
    "        if X[i][node['id']] <= node['bound']:\n",
    "            Xl += [X[i]]\n",
    "            yl += [y[i]]\n",
    "        else:\n",
    "            Xr += [X[i]]\n",
    "            yr += [y[i]]\n",
    "    if len(Xl) == 0 or len(Xr) == 0:\n",
    "        return leaf\n",
    "    node['l'] = build_tree(Xl, yl, max_depth=max_depth-1)\n",
    "    node['r'] = build_tree(Xr, yr, max_depth=max_depth-1)\n",
    "    return node"
   ]
  },
  {
   "cell_type": "code",
   "execution_count": 8,
   "metadata": {
    "collapsed": false
   },
   "outputs": [
    {
     "name": "stdout",
     "output_type": "stream",
     "text": [
      "{'score': 0.9833316840040305, 'id': 5, 'bound': 7.7835000000000001, 'l': {'l': None, 'r': None, 'result': 21.524329896907215}, 'r': {'l': None, 'r': None, 'result': 45.823809523809523}}\n"
     ]
    }
   ],
   "source": [
    "print(build_tree(X, y, max_depth=1))"
   ]
  },
  {
   "cell_type": "markdown",
   "metadata": {},
   "source": [
    "# Recursive predict function"
   ]
  },
  {
   "cell_type": "code",
   "execution_count": 9,
   "metadata": {
    "collapsed": true
   },
   "outputs": [],
   "source": [
    "def predict_value(x, node):\n",
    "    if 'result' in node:\n",
    "        return node['result']\n",
    "    if x[node['id']] <= node['bound']:\n",
    "        return predict_value(x, node['l'])\n",
    "    else:\n",
    "        return predict_value(x, node['r'])"
   ]
  },
  {
   "cell_type": "markdown",
   "metadata": {},
   "source": [
    "# Main class"
   ]
  },
  {
   "cell_type": "code",
   "execution_count": 10,
   "metadata": {
    "collapsed": true
   },
   "outputs": [],
   "source": [
    "class DecisionTree:\n",
    "    def __init__(self, max_depth=inf):\n",
    "        self.max_depth = max_depth\n",
    "        \n",
    "    def fit(self, X, y):\n",
    "        self.root = build_tree(X, y, max_depth=self.max_depth)\n",
    "        return self\n",
    "    \n",
    "    def predict(self, X):\n",
    "        return [predict_value(x, self.root) for x in X]"
   ]
  },
  {
   "cell_type": "markdown",
   "metadata": {},
   "source": [
    "# Testing tree on dataset and comparing with sklearn decision tree"
   ]
  },
  {
   "cell_type": "code",
   "execution_count": 11,
   "metadata": {
    "collapsed": true
   },
   "outputs": [],
   "source": [
    "from sklearn.tree import DecisionTreeRegressor\n",
    "from sklearn.metrics import mean_squared_error"
   ]
  },
  {
   "cell_type": "code",
   "execution_count": 12,
   "metadata": {
    "collapsed": true
   },
   "outputs": [],
   "source": [
    "def run(depth):\n",
    "    t = DecisionTree(max_depth=depth)\n",
    "    t2 = DecisionTreeRegressor(max_depth=depth)\n",
    "    t.fit(X_train, y_train)\n",
    "    t2.fit(X_train, y_train)\n",
    "    y_pred = t.predict(X_test)\n",
    "    y_pred_2 = t2.predict(X_test)\n",
    "    print(\"MSE score of DecisionTree is \", mean_squared_error(y_test, y_pred))\n",
    "    print(\"MSE score of sklearn tree is \", mean_squared_error(y_test, y_pred_2))"
   ]
  },
  {
   "cell_type": "code",
   "execution_count": 13,
   "metadata": {
    "collapsed": false
   },
   "outputs": [
    {
     "name": "stdout",
     "output_type": "stream",
     "text": [
      "max_depth 1\n",
      "MSE score of DecisionTree is  107.028874075\n",
      "MSE score of sklearn tree is  89.2651884691\n",
      "max_depth 3\n",
      "MSE score of DecisionTree is  93.0232812596\n",
      "MSE score of sklearn tree is  31.3832155653\n",
      "max_depth 5\n",
      "MSE score of DecisionTree is  71.5451355301\n",
      "MSE score of sklearn tree is  23.8470745162\n",
      "max_depth 10\n",
      "MSE score of DecisionTree is  45.6787061379\n",
      "MSE score of sklearn tree is  21.4484129625\n",
      "max_depth 100\n",
      "MSE score of DecisionTree is  45.5386507937\n",
      "MSE score of sklearn tree is  41.8293650794\n",
      "max_depth 100000\n",
      "MSE score of DecisionTree is  45.5386507937\n",
      "MSE score of sklearn tree is  37.174047619\n"
     ]
    }
   ],
   "source": [
    "for d in [1, 3, 5, 10, 100, 100000]:\n",
    "    print(\"max_depth\", d)\n",
    "    run(d)"
   ]
  },
  {
   "cell_type": "code",
   "execution_count": null,
   "metadata": {
    "collapsed": true
   },
   "outputs": [],
   "source": []
  }
 ],
 "metadata": {
  "kernelspec": {
   "display_name": "Python 3",
   "language": "python",
   "name": "python3"
  },
  "language_info": {
   "codemirror_mode": {
    "name": "ipython",
    "version": 3
   },
   "file_extension": ".py",
   "mimetype": "text/x-python",
   "name": "python",
   "nbconvert_exporter": "python",
   "pygments_lexer": "ipython3",
   "version": "3.6.0"
  }
 },
 "nbformat": 4,
 "nbformat_minor": 2
}
