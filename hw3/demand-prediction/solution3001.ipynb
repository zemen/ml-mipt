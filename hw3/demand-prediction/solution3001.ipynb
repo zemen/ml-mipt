{
 "cells": [
  {
   "cell_type": "code",
   "execution_count": 1,
   "metadata": {
    "collapsed": false,
    "deletable": true,
    "editable": true
   },
   "outputs": [
    {
     "name": "stdout",
     "output_type": "stream",
     "text": [
      "Populating the interactive namespace from numpy and matplotlib\n"
     ]
    }
   ],
   "source": [
    "%pylab inline\n",
    "import pandas as pd"
   ]
  },
  {
   "cell_type": "code",
   "execution_count": 29,
   "metadata": {
    "collapsed": false,
    "deletable": true,
    "editable": true
   },
   "outputs": [],
   "source": [
    "train = pd.read_csv(\"train.tsv\")\n",
    "test = pd.read_csv(\"test.tsv\")\n",
    "submission = pd.read_csv(\"sample_submission.tsv\")\n",
    "\n",
    "#subtrain = train.sample(frac=0.2)\n",
    "cnt = 10000\n",
    "X = np.array(train.drop(['Num', 'y'], axis=1))\n",
    "y = np.array(train['y'])\n",
    "X = X[-cnt:]\n",
    "y = y[-cnt:]"
   ]
  },
  {
   "cell_type": "code",
   "execution_count": 30,
   "metadata": {
    "collapsed": false,
    "deletable": true,
    "editable": true
   },
   "outputs": [
    {
     "name": "stdout",
     "output_type": "stream",
     "text": [
      "198575.912031\n"
     ]
    },
    {
     "data": {
      "text/html": [
       "<div>\n",
       "<table border=\"1\" class=\"dataframe\">\n",
       "  <thead>\n",
       "    <tr style=\"text-align: right;\">\n",
       "      <th></th>\n",
       "      <th>Num</th>\n",
       "      <th>y</th>\n",
       "      <th>year</th>\n",
       "      <th>week</th>\n",
       "      <th>shift</th>\n",
       "      <th>item_id</th>\n",
       "      <th>f1</th>\n",
       "      <th>f2</th>\n",
       "      <th>f3</th>\n",
       "      <th>f4</th>\n",
       "      <th>...</th>\n",
       "      <th>f51</th>\n",
       "      <th>f52</th>\n",
       "      <th>f53</th>\n",
       "      <th>f54</th>\n",
       "      <th>f55</th>\n",
       "      <th>f56</th>\n",
       "      <th>f57</th>\n",
       "      <th>f58</th>\n",
       "      <th>f59</th>\n",
       "      <th>f60</th>\n",
       "    </tr>\n",
       "  </thead>\n",
       "  <tbody>\n",
       "    <tr>\n",
       "      <th>count</th>\n",
       "      <td>72457.000000</td>\n",
       "      <td>7.245700e+04</td>\n",
       "      <td>72457.000000</td>\n",
       "      <td>72457.000000</td>\n",
       "      <td>72457.000000</td>\n",
       "      <td>7.245700e+04</td>\n",
       "      <td>7.245700e+04</td>\n",
       "      <td>7.245700e+04</td>\n",
       "      <td>7.245700e+04</td>\n",
       "      <td>7.245700e+04</td>\n",
       "      <td>...</td>\n",
       "      <td>7.245700e+04</td>\n",
       "      <td>7.245700e+04</td>\n",
       "      <td>7.245700e+04</td>\n",
       "      <td>7.245700e+04</td>\n",
       "      <td>7.245700e+04</td>\n",
       "      <td>7.245700e+04</td>\n",
       "      <td>7.245700e+04</td>\n",
       "      <td>7.245700e+04</td>\n",
       "      <td>7.245700e+04</td>\n",
       "      <td>7.245700e+04</td>\n",
       "    </tr>\n",
       "    <tr>\n",
       "      <th>mean</th>\n",
       "      <td>178904.496129</td>\n",
       "      <td>1.985759e+05</td>\n",
       "      <td>2013.524325</td>\n",
       "      <td>26.439116</td>\n",
       "      <td>1.993610</td>\n",
       "      <td>2.044181e+07</td>\n",
       "      <td>1.313229e+05</td>\n",
       "      <td>1.324994e+05</td>\n",
       "      <td>1.326374e+05</td>\n",
       "      <td>1.326679e+05</td>\n",
       "      <td>...</td>\n",
       "      <td>1.277857e+05</td>\n",
       "      <td>1.276425e+05</td>\n",
       "      <td>1.272761e+05</td>\n",
       "      <td>1.264721e+05</td>\n",
       "      <td>1.265909e+05</td>\n",
       "      <td>1.263964e+05</td>\n",
       "      <td>1.260598e+05</td>\n",
       "      <td>1.253287e+05</td>\n",
       "      <td>1.255156e+05</td>\n",
       "      <td>1.252468e+05</td>\n",
       "    </tr>\n",
       "    <tr>\n",
       "      <th>std</th>\n",
       "      <td>103879.795910</td>\n",
       "      <td>4.755776e+05</td>\n",
       "      <td>0.541215</td>\n",
       "      <td>15.405824</td>\n",
       "      <td>0.816497</td>\n",
       "      <td>5.875915e+03</td>\n",
       "      <td>3.386385e+05</td>\n",
       "      <td>3.396957e+05</td>\n",
       "      <td>3.394491e+05</td>\n",
       "      <td>3.388524e+05</td>\n",
       "      <td>...</td>\n",
       "      <td>3.120409e+05</td>\n",
       "      <td>3.115069e+05</td>\n",
       "      <td>3.103819e+05</td>\n",
       "      <td>3.073558e+05</td>\n",
       "      <td>3.073772e+05</td>\n",
       "      <td>3.067469e+05</td>\n",
       "      <td>3.055666e+05</td>\n",
       "      <td>3.025618e+05</td>\n",
       "      <td>3.025612e+05</td>\n",
       "      <td>3.019187e+05</td>\n",
       "    </tr>\n",
       "    <tr>\n",
       "      <th>min</th>\n",
       "      <td>0.000000</td>\n",
       "      <td>1.000000e+00</td>\n",
       "      <td>2012.000000</td>\n",
       "      <td>1.000000</td>\n",
       "      <td>1.000000</td>\n",
       "      <td>2.042703e+07</td>\n",
       "      <td>0.000000e+00</td>\n",
       "      <td>0.000000e+00</td>\n",
       "      <td>0.000000e+00</td>\n",
       "      <td>0.000000e+00</td>\n",
       "      <td>...</td>\n",
       "      <td>0.000000e+00</td>\n",
       "      <td>0.000000e+00</td>\n",
       "      <td>0.000000e+00</td>\n",
       "      <td>0.000000e+00</td>\n",
       "      <td>0.000000e+00</td>\n",
       "      <td>0.000000e+00</td>\n",
       "      <td>0.000000e+00</td>\n",
       "      <td>0.000000e+00</td>\n",
       "      <td>0.000000e+00</td>\n",
       "      <td>0.000000e+00</td>\n",
       "    </tr>\n",
       "    <tr>\n",
       "      <th>25%</th>\n",
       "      <td>89711.000000</td>\n",
       "      <td>4.902000e+03</td>\n",
       "      <td>2013.000000</td>\n",
       "      <td>13.000000</td>\n",
       "      <td>1.000000</td>\n",
       "      <td>2.043868e+07</td>\n",
       "      <td>2.320000e+03</td>\n",
       "      <td>2.425000e+03</td>\n",
       "      <td>2.460000e+03</td>\n",
       "      <td>2.490000e+03</td>\n",
       "      <td>...</td>\n",
       "      <td>3.015000e+03</td>\n",
       "      <td>3.040000e+03</td>\n",
       "      <td>3.048000e+03</td>\n",
       "      <td>3.050000e+03</td>\n",
       "      <td>3.070000e+03</td>\n",
       "      <td>3.080000e+03</td>\n",
       "      <td>3.090000e+03</td>\n",
       "      <td>3.080000e+03</td>\n",
       "      <td>3.090000e+03</td>\n",
       "      <td>3.090000e+03</td>\n",
       "    </tr>\n",
       "    <tr>\n",
       "      <th>50%</th>\n",
       "      <td>177658.000000</td>\n",
       "      <td>3.271100e+04</td>\n",
       "      <td>2014.000000</td>\n",
       "      <td>26.000000</td>\n",
       "      <td>2.000000</td>\n",
       "      <td>2.044098e+07</td>\n",
       "      <td>1.880000e+04</td>\n",
       "      <td>1.925100e+04</td>\n",
       "      <td>1.932500e+04</td>\n",
       "      <td>1.943000e+04</td>\n",
       "      <td>...</td>\n",
       "      <td>2.029300e+04</td>\n",
       "      <td>2.034000e+04</td>\n",
       "      <td>2.034000e+04</td>\n",
       "      <td>2.030900e+04</td>\n",
       "      <td>2.038000e+04</td>\n",
       "      <td>2.038000e+04</td>\n",
       "      <td>2.038600e+04</td>\n",
       "      <td>2.038100e+04</td>\n",
       "      <td>2.046000e+04</td>\n",
       "      <td>2.046000e+04</td>\n",
       "    </tr>\n",
       "    <tr>\n",
       "      <th>75%</th>\n",
       "      <td>270259.000000</td>\n",
       "      <td>1.598350e+05</td>\n",
       "      <td>2014.000000</td>\n",
       "      <td>40.000000</td>\n",
       "      <td>3.000000</td>\n",
       "      <td>2.044394e+07</td>\n",
       "      <td>9.969000e+04</td>\n",
       "      <td>1.013700e+05</td>\n",
       "      <td>1.015560e+05</td>\n",
       "      <td>1.016300e+05</td>\n",
       "      <td>...</td>\n",
       "      <td>1.013250e+05</td>\n",
       "      <td>1.013050e+05</td>\n",
       "      <td>1.009900e+05</td>\n",
       "      <td>1.005220e+05</td>\n",
       "      <td>1.007180e+05</td>\n",
       "      <td>1.005220e+05</td>\n",
       "      <td>1.002340e+05</td>\n",
       "      <td>1.000420e+05</td>\n",
       "      <td>1.003300e+05</td>\n",
       "      <td>1.001210e+05</td>\n",
       "    </tr>\n",
       "    <tr>\n",
       "      <th>max</th>\n",
       "      <td>349518.000000</td>\n",
       "      <td>9.881526e+06</td>\n",
       "      <td>2015.000000</td>\n",
       "      <td>53.000000</td>\n",
       "      <td>3.000000</td>\n",
       "      <td>2.045356e+07</td>\n",
       "      <td>6.763986e+06</td>\n",
       "      <td>6.763986e+06</td>\n",
       "      <td>6.763986e+06</td>\n",
       "      <td>6.763986e+06</td>\n",
       "      <td>...</td>\n",
       "      <td>6.137594e+06</td>\n",
       "      <td>6.137594e+06</td>\n",
       "      <td>6.137594e+06</td>\n",
       "      <td>6.137594e+06</td>\n",
       "      <td>6.137594e+06</td>\n",
       "      <td>6.137594e+06</td>\n",
       "      <td>6.137594e+06</td>\n",
       "      <td>6.137594e+06</td>\n",
       "      <td>6.137594e+06</td>\n",
       "      <td>6.137594e+06</td>\n",
       "    </tr>\n",
       "  </tbody>\n",
       "</table>\n",
       "<p>8 rows × 66 columns</p>\n",
       "</div>"
      ],
      "text/plain": [
       "                 Num             y          year          week         shift  \\\n",
       "count   72457.000000  7.245700e+04  72457.000000  72457.000000  72457.000000   \n",
       "mean   178904.496129  1.985759e+05   2013.524325     26.439116      1.993610   \n",
       "std    103879.795910  4.755776e+05      0.541215     15.405824      0.816497   \n",
       "min         0.000000  1.000000e+00   2012.000000      1.000000      1.000000   \n",
       "25%     89711.000000  4.902000e+03   2013.000000     13.000000      1.000000   \n",
       "50%    177658.000000  3.271100e+04   2014.000000     26.000000      2.000000   \n",
       "75%    270259.000000  1.598350e+05   2014.000000     40.000000      3.000000   \n",
       "max    349518.000000  9.881526e+06   2015.000000     53.000000      3.000000   \n",
       "\n",
       "            item_id            f1            f2            f3            f4  \\\n",
       "count  7.245700e+04  7.245700e+04  7.245700e+04  7.245700e+04  7.245700e+04   \n",
       "mean   2.044181e+07  1.313229e+05  1.324994e+05  1.326374e+05  1.326679e+05   \n",
       "std    5.875915e+03  3.386385e+05  3.396957e+05  3.394491e+05  3.388524e+05   \n",
       "min    2.042703e+07  0.000000e+00  0.000000e+00  0.000000e+00  0.000000e+00   \n",
       "25%    2.043868e+07  2.320000e+03  2.425000e+03  2.460000e+03  2.490000e+03   \n",
       "50%    2.044098e+07  1.880000e+04  1.925100e+04  1.932500e+04  1.943000e+04   \n",
       "75%    2.044394e+07  9.969000e+04  1.013700e+05  1.015560e+05  1.016300e+05   \n",
       "max    2.045356e+07  6.763986e+06  6.763986e+06  6.763986e+06  6.763986e+06   \n",
       "\n",
       "           ...                f51           f52           f53           f54  \\\n",
       "count      ...       7.245700e+04  7.245700e+04  7.245700e+04  7.245700e+04   \n",
       "mean       ...       1.277857e+05  1.276425e+05  1.272761e+05  1.264721e+05   \n",
       "std        ...       3.120409e+05  3.115069e+05  3.103819e+05  3.073558e+05   \n",
       "min        ...       0.000000e+00  0.000000e+00  0.000000e+00  0.000000e+00   \n",
       "25%        ...       3.015000e+03  3.040000e+03  3.048000e+03  3.050000e+03   \n",
       "50%        ...       2.029300e+04  2.034000e+04  2.034000e+04  2.030900e+04   \n",
       "75%        ...       1.013250e+05  1.013050e+05  1.009900e+05  1.005220e+05   \n",
       "max        ...       6.137594e+06  6.137594e+06  6.137594e+06  6.137594e+06   \n",
       "\n",
       "                f55           f56           f57           f58           f59  \\\n",
       "count  7.245700e+04  7.245700e+04  7.245700e+04  7.245700e+04  7.245700e+04   \n",
       "mean   1.265909e+05  1.263964e+05  1.260598e+05  1.253287e+05  1.255156e+05   \n",
       "std    3.073772e+05  3.067469e+05  3.055666e+05  3.025618e+05  3.025612e+05   \n",
       "min    0.000000e+00  0.000000e+00  0.000000e+00  0.000000e+00  0.000000e+00   \n",
       "25%    3.070000e+03  3.080000e+03  3.090000e+03  3.080000e+03  3.090000e+03   \n",
       "50%    2.038000e+04  2.038000e+04  2.038600e+04  2.038100e+04  2.046000e+04   \n",
       "75%    1.007180e+05  1.005220e+05  1.002340e+05  1.000420e+05  1.003300e+05   \n",
       "max    6.137594e+06  6.137594e+06  6.137594e+06  6.137594e+06  6.137594e+06   \n",
       "\n",
       "                f60  \n",
       "count  7.245700e+04  \n",
       "mean   1.252468e+05  \n",
       "std    3.019187e+05  \n",
       "min    0.000000e+00  \n",
       "25%    3.090000e+03  \n",
       "50%    2.046000e+04  \n",
       "75%    1.001210e+05  \n",
       "max    6.137594e+06  \n",
       "\n",
       "[8 rows x 66 columns]"
      ]
     },
     "execution_count": 30,
     "metadata": {},
     "output_type": "execute_result"
    }
   ],
   "source": [
    "y_mean = train.y.mean()\n",
    "print(y_mean)\n",
    "train.describe()"
   ]
  },
  {
   "cell_type": "code",
   "execution_count": 31,
   "metadata": {
    "collapsed": false,
    "deletable": true,
    "editable": true
   },
   "outputs": [],
   "source": [
    "from sklearn.model_selection import TimeSeriesSplit"
   ]
  },
  {
   "cell_type": "code",
   "execution_count": 33,
   "metadata": {
    "collapsed": false,
    "deletable": true,
    "editable": true
   },
   "outputs": [],
   "source": [
    "def smape(y1, y2):\n",
    "    n = len(y1)\n",
    "    return 200 * (np.abs(y1 - y2) / (np.abs(y1) + np.abs(y2))).sum() / n\n",
    "\n",
    "def cross_val(model, X, y):\n",
    "    tscv = TimeSeriesSplit(n_splits=3)\n",
    "    scores = []\n",
    "    for train, test in tscv.split(X):\n",
    "        model.fit(X[train], y[train])\n",
    "        y_pred = model.predict(X[test])\n",
    "        \n",
    "        # plt.plot(np.arange(len(y_pred - y[test])), y_pred - y[test])\n",
    "        # plt.show()\n",
    "        \n",
    "        print(\"train %.2f, test %.2f\" % (smape(y_pred, y[test]), smape(model.predict(X[train]), y[train])))\n",
    "        \n",
    "        scores.append(smape(y_pred, y[test]))\n",
    "    return np.mean(scores)"
   ]
  },
  {
   "cell_type": "code",
   "execution_count": 41,
   "metadata": {
    "collapsed": true,
    "deletable": true,
    "editable": true
   },
   "outputs": [],
   "source": [
    "import xgboost as xgb\n",
    "from xgboost import XGBRegressor"
   ]
  },
  {
   "cell_type": "code",
   "execution_count": 42,
   "metadata": {
    "collapsed": false,
    "deletable": true,
    "editable": true
   },
   "outputs": [],
   "source": [
    "model = XGBRegressor(max_depth=15, n_estimators=50)"
   ]
  },
  {
   "cell_type": "code",
   "execution_count": 43,
   "metadata": {
    "collapsed": false,
    "deletable": true,
    "editable": true
   },
   "outputs": [
    {
     "name": "stdout",
     "output_type": "stream",
     "text": [
      "train 43.22, test 4.47\n",
      "train 27.32, test 5.39\n",
      "train 50.15, test 7.16\n",
      "smape 40.23\n"
     ]
    }
   ],
   "source": [
    "print(\"smape %.2f\" % cross_val(model, X, y))"
   ]
  },
  {
   "cell_type": "code",
   "execution_count": 45,
   "metadata": {
    "collapsed": false,
    "deletable": true,
    "editable": true
   },
   "outputs": [],
   "source": [
    "model.fit(X, y)\n",
    "res = model.predict(np.array(test.drop(['Num'], axis=1)))"
   ]
  },
  {
   "cell_type": "code",
   "execution_count": 46,
   "metadata": {
    "collapsed": false,
    "deletable": true,
    "editable": true
   },
   "outputs": [],
   "source": [
    "submission['y'] = res"
   ]
  },
  {
   "cell_type": "code",
   "execution_count": 47,
   "metadata": {
    "collapsed": false,
    "deletable": true,
    "editable": true
   },
   "outputs": [
    {
     "data": {
      "text/html": [
       "<div>\n",
       "<table border=\"1\" class=\"dataframe\">\n",
       "  <thead>\n",
       "    <tr style=\"text-align: right;\">\n",
       "      <th></th>\n",
       "      <th>Num</th>\n",
       "      <th>y</th>\n",
       "    </tr>\n",
       "  </thead>\n",
       "  <tbody>\n",
       "    <tr>\n",
       "      <th>count</th>\n",
       "      <td>2016.000000</td>\n",
       "      <td>2.016000e+03</td>\n",
       "    </tr>\n",
       "    <tr>\n",
       "      <th>mean</th>\n",
       "      <td>350371.290675</td>\n",
       "      <td>1.329686e+05</td>\n",
       "    </tr>\n",
       "    <tr>\n",
       "      <th>std</th>\n",
       "      <td>806.372912</td>\n",
       "      <td>2.910094e+05</td>\n",
       "    </tr>\n",
       "    <tr>\n",
       "      <th>min</th>\n",
       "      <td>348622.000000</td>\n",
       "      <td>3.626750e+01</td>\n",
       "    </tr>\n",
       "    <tr>\n",
       "      <th>25%</th>\n",
       "      <td>349796.750000</td>\n",
       "      <td>3.509310e+03</td>\n",
       "    </tr>\n",
       "    <tr>\n",
       "      <th>50%</th>\n",
       "      <td>350520.500000</td>\n",
       "      <td>2.297804e+04</td>\n",
       "    </tr>\n",
       "    <tr>\n",
       "      <th>75%</th>\n",
       "      <td>351024.250000</td>\n",
       "      <td>1.026860e+05</td>\n",
       "    </tr>\n",
       "    <tr>\n",
       "      <th>max</th>\n",
       "      <td>351528.000000</td>\n",
       "      <td>2.578912e+06</td>\n",
       "    </tr>\n",
       "  </tbody>\n",
       "</table>\n",
       "</div>"
      ],
      "text/plain": [
       "                 Num             y\n",
       "count    2016.000000  2.016000e+03\n",
       "mean   350371.290675  1.329686e+05\n",
       "std       806.372912  2.910094e+05\n",
       "min    348622.000000  3.626750e+01\n",
       "25%    349796.750000  3.509310e+03\n",
       "50%    350520.500000  2.297804e+04\n",
       "75%    351024.250000  1.026860e+05\n",
       "max    351528.000000  2.578912e+06"
      ]
     },
     "execution_count": 47,
     "metadata": {},
     "output_type": "execute_result"
    }
   ],
   "source": [
    "submission.describe()"
   ]
  },
  {
   "cell_type": "code",
   "execution_count": 48,
   "metadata": {
    "collapsed": true,
    "deletable": true,
    "editable": true
   },
   "outputs": [],
   "source": [
    "submission.to_csv(\"ans.csv\", index=False)"
   ]
  },
  {
   "cell_type": "code",
   "execution_count": null,
   "metadata": {
    "collapsed": true,
    "deletable": true,
    "editable": true
   },
   "outputs": [],
   "source": []
  }
 ],
 "metadata": {
  "kernelspec": {
   "display_name": "Python 3",
   "language": "python",
   "name": "python3"
  },
  "language_info": {
   "codemirror_mode": {
    "name": "ipython",
    "version": 3
   },
   "file_extension": ".py",
   "mimetype": "text/x-python",
   "name": "python",
   "nbconvert_exporter": "python",
   "pygments_lexer": "ipython3",
   "version": "3.6.0"
  }
 },
 "nbformat": 4,
 "nbformat_minor": 2
}
