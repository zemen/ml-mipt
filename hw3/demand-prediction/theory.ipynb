{
 "cells": [
  {
   "cell_type": "markdown",
   "metadata": {},
   "source": [
    "# Задание 2.1"
   ]
  },
  {
   "cell_type": "markdown",
   "metadata": {},
   "source": [
    "При фиксированном $a_{X^l}$:\n",
    "\n",
    "## $E_{x, y} (y - a_{X^l}(x))^2 = \n",
    "    E_{x, y} (y - E(y|x))^2 + E_{x, y} (E(y|x) - a_{X^l}(x))^2$\n",
    "    \n",
    "т.к. эти две величины независимы(а первое из них - $Noise$.\n",
    "\n",
    "Возьмем $E_{X^l}$:\n",
    "## $E_{x, y} E_{X^l} (y - a_{X^l}(x))^2 = Noise + E_{x, y} E_{X^l} (E(y|x) - a_{X^l}(x))^2 =\n",
    "Noise + E_{x, y} E_{X^l} (E(y|x) - E_{X^l} a_{X^l}(x) + E_{X^l} a_{X^l}(x) - a_{X^l}(x))^2 =\n",
    "Noise + Variance + Bias + E_{x, y} E_{X^l} 2 (E(y|x) - E_{X^l} (a_{X^l}(x))) (E_{X^l} a_{X^l}(x) - a_{X^l}(x)) =\n",
    "Noise + Variance + Bias + 2 E_{x, y} [ (E(y|x) - E_{X^l} (a_{X^l}(x))) E_{X^l} (E_{X^l} a_{X^l}(x) - a_{X^l}(x))] =\n",
    "Noise + Variance + Bias + 2 E_{x, y} [ (E(y|x) - E_{X^l} (a_{X^l}(x))) (E_{X^l} a_{X^l}(x) - E_{X^l} a_{X^l}(x))] =\n",
    "Noise + Variance + Bias$"
   ]
  },
  {
   "cell_type": "markdown",
   "metadata": {},
   "source": [
    "# Задание 2.2"
   ]
  },
  {
   "cell_type": "markdown",
   "metadata": {},
   "source": [
    "## $E_{X^l} \\frac{1}{M} \\sum a_m(x) = \\frac{1}{M} \\sum E_{X^l} a_m(x) = E_{X^l} a_0(x)$\n",
    "\n",
    "Из этого следует, что $Bias = E_{x,y} (E(y|x) - E_{X^l} a_{X^l}(x))^2$ не изменится.\n",
    "\n",
    "## $D a^2(x) = \\rho \\sigma^2 + (1 - \\rho) \\frac{\\sigma^2}{M}$\n",
    "\n",
    "по задаче 2.3. Отсюда следует, что $Variance$ тем меньше, чем меньше корелляция $\\rho$ между базовыми алгоритмами."
   ]
  },
  {
   "cell_type": "markdown",
   "metadata": {},
   "source": [
    "# Задание 2.3"
   ]
  },
  {
   "cell_type": "markdown",
   "metadata": {},
   "source": [
    "Пусть $\\xi_i$ - случайные величины. $D \\xi_i = \\sigma^2$ и $corr(\\xi_i, \\xi_j) = \\rho$. Т.к. $corr(a, b) = \\frac{cov(a, b)}{\\sqrt{D a D b}}$, имеем $cov(\\xi_i, \\xi_j) = \\rho \\sigma^2$.\n",
    "\n",
    "### $D \\sum \\frac{\\xi_i}{M} = \\sum D \\frac{\\xi_i}{M} + \\sum\\limits_{i \\ne j} cov(\\frac{\\xi_i}{M}, \\frac{\\xi_j}{M}) = M \\frac{\\sigma^2}{M^2} + M(M-1) \\frac{\\rho \\sigma^2}{M^2} = \\frac{\\sigma^2}{M} + \\rho \\sigma^2 - \\rho \\frac{\\sigma^2}{M} = \\rho \\sigma^2 + (1 - \\rho) \\frac{\\sigma^2}{M}$"
   ]
  },
  {
   "cell_type": "markdown",
   "metadata": {},
   "source": [
    "# Задание 3.1"
   ]
  },
  {
   "cell_type": "markdown",
   "metadata": {},
   "source": [
    "sample_submission выдает константный ответ. Этот ответ в точности совпадает со средним значением $y$ на обучающей выборке"
   ]
  },
  {
   "cell_type": "code",
   "execution_count": null,
   "metadata": {
    "collapsed": true
   },
   "outputs": [],
   "source": []
  }
 ],
 "metadata": {
  "kernelspec": {
   "display_name": "Python 3",
   "language": "python",
   "name": "python3"
  },
  "language_info": {
   "codemirror_mode": {
    "name": "ipython",
    "version": 3
   },
   "file_extension": ".py",
   "mimetype": "text/x-python",
   "name": "python",
   "nbconvert_exporter": "python",
   "pygments_lexer": "ipython3",
   "version": "3.6.0"
  }
 },
 "nbformat": 4,
 "nbformat_minor": 2
}
