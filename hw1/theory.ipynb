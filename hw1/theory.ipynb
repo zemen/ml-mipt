{
 "cells": [
  {
   "cell_type": "markdown",
   "metadata": {},
   "source": [
    "# Задача 1"
   ]
  },
  {
   "cell_type": "markdown",
   "metadata": {},
   "source": [
    "Байесовский классификатор ищет $argmax$ выражения $P(x | y) P(y)$. Поскольку $P(y) - const$, можно рассматривать только $P(x | y)$. Обозначим за $\\rho(x, y)$ декартову метрику в пространстве признаков и запишем совместную условную плотность:\n",
    "\n",
    "$P(x | y) = \\prod\\limits_{i=1}^{n} P(x^{(i)} | y) = (\\frac{1}{\\sqrt{2 \\pi \\sigma^2}})^n exp(- \\frac{\\sum (x^{(i)} - \\mu_{yi})^2}{2 \\sigma^2}) = const \\cdot exp(-\\sum (x^{(i)} - \\mu_{yi})^2) = const \\cdot exp(- \\rho(x, \\mu_y)^2)$\n",
    "\n",
    "Из формулы видно, что значение максимально при минимальном $\\rho(x, \\mu_y)$, то есть байес выберет класс, центр которого будет ближе к $x$."
   ]
  },
  {
   "cell_type": "markdown",
   "metadata": {},
   "source": [
    "# Задача 2"
   ]
  },
  {
   "cell_type": "markdown",
   "metadata": {},
   "source": [
    "Пусть $q$ - доля класса 1. Обозначим случайную величину $TPR$ за $y$, $FPR$ за $x$.\n",
    "\n",
    "Посчитаем матожидания $x$ и $y$(можно считать, что объект один). $Ey = E(pred = 1 | class = 1) = E(pred = 1) = p$. $Ex = E(pred = 1 | class = 0) = E(pred = 1) = p$.\n",
    "Выразим $AUC$ через $x$ и $y$. AUC - площадь под графиком $(0, 0), (x, y), (1, 1)$. $AUC = \\frac{xy}{2} + \\frac{(1-x)(y+1)}{2} = 0.5 + x - y$. $E\\ AUC = 0.5 + p - p = 0.5$. Это верно при любых $p$ и $q$."
   ]
  },
  {
   "cell_type": "markdown",
   "metadata": {},
   "source": [
    "# Задача 3"
   ]
  },
  {
   "cell_type": "markdown",
   "metadata": {},
   "source": [
    "$E_N = P(y_n \\ne y) = P(y=0)P(y_n=1) + P(y=1)P(y_n=0)$, т.к. принадлежности $x$ и $x_n$ к классам независимы.\n",
    "\n",
    "$P(y=0)P(y_n=1) = P(0|x)P(1|x_n)$ из оптимальности байесовского классификатора.\n",
    "\n",
    "В пределе по $n$ $P(1|x_n) \\rightarrow P(1|x)$ из непрерывности условных вероятностей и так как $\\rho(x_n, x) \\rightarrow 0$.\n",
    "\n",
    "Тогда в пределе $P(y=0)P(y_n=1) \\le P(0|x)$ и $P(y=0)P(y_n=1) \\le P(1|x)$. То есть $P(y=0)P(y_n=1) \\le E_B$.\n",
    "\n",
    "Аналогично для $P(y=1)P(y_n=0)$. Итого, $E_N \\le 2 E_B$."
   ]
  }
 ],
 "metadata": {
  "kernelspec": {
   "display_name": "Python 3",
   "language": "python",
   "name": "python3"
  },
  "language_info": {
   "codemirror_mode": {
    "name": "ipython",
    "version": 3
   },
   "file_extension": ".py",
   "mimetype": "text/x-python",
   "name": "python",
   "nbconvert_exporter": "python",
   "pygments_lexer": "ipython3",
   "version": "3.6.0"
  }
 },
 "nbformat": 4,
 "nbformat_minor": 2
}
